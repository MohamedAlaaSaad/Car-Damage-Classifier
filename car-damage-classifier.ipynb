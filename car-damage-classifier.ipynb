{
 "cells": [
  {
   "cell_type": "code",
   "execution_count": null,
   "metadata": {
    "_cell_guid": "b1076dfc-b9ad-4769-8c92-a6c4dae69d19",
    "_uuid": "8f2839f25d086af736a60e9eeb907d3b93b6e0e5",
    "execution": {
     "iopub.execute_input": "2022-01-14T09:42:13.241854Z",
     "iopub.status.busy": "2022-01-14T09:42:13.241509Z",
     "iopub.status.idle": "2022-01-14T09:42:18.235962Z",
     "shell.execute_reply": "2022-01-14T09:42:18.235231Z",
     "shell.execute_reply.started": "2022-01-14T09:42:13.241772Z"
    }
   },
   "outputs": [],
   "source": [
    "import numpy as np\n",
    "import pandas as pd\n",
    "import os\n",
    "import tensorflow as tf\n",
    "import matplotlib.pyplot as plt\n",
    "from tensorflow.keras.optimizers import RMSprop\n",
    "from tensorflow.keras.preprocessing.image import ImageDataGenerator"
   ]
  },
  {
   "cell_type": "code",
   "execution_count": null,
   "metadata": {
    "execution": {
     "iopub.execute_input": "2022-01-14T09:42:18.238201Z",
     "iopub.status.busy": "2022-01-14T09:42:18.237874Z",
     "iopub.status.idle": "2022-01-14T09:42:18.244542Z",
     "shell.execute_reply": "2022-01-14T09:42:18.241756Z",
     "shell.execute_reply.started": "2022-01-14T09:42:18.238162Z"
    }
   },
   "outputs": [],
   "source": [
    "\n",
    "base_dir = 'data'\n",
    "train_dir = os.path.join(base_dir, 'training')\n",
    "validation_dir = os.path.join(base_dir, 'validation')"
   ]
  },
  {
   "cell_type": "code",
   "execution_count": null,
   "metadata": {
    "execution": {
     "iopub.execute_input": "2022-01-14T09:42:18.245782Z",
     "iopub.status.busy": "2022-01-14T09:42:18.245551Z",
     "iopub.status.idle": "2022-01-14T09:42:18.25971Z",
     "shell.execute_reply": "2022-01-14T09:42:18.25909Z",
     "shell.execute_reply.started": "2022-01-14T09:42:18.245749Z"
    }
   },
   "outputs": [],
   "source": [
    "train_damage_dir = os.path.join(train_dir, '00-damage')\n",
    "train_whole_dir = os.path.join(train_dir, '01-whole')\n",
    "validation_damage_dir = os.path.join(validation_dir, '00-damage')\n",
    "validation_whole_dir = os.path.join(validation_dir, '01-whole')"
   ]
  },
  {
   "cell_type": "code",
   "execution_count": null,
   "metadata": {
    "execution": {
     "iopub.execute_input": "2022-01-14T09:42:18.261294Z",
     "iopub.status.busy": "2022-01-14T09:42:18.26086Z",
     "iopub.status.idle": "2022-01-14T09:42:18.270299Z",
     "shell.execute_reply": "2022-01-14T09:42:18.2696Z",
     "shell.execute_reply.started": "2022-01-14T09:42:18.261247Z"
    }
   },
   "outputs": [],
   "source": [
    "train_datagen = ImageDataGenerator(rescale=1./255)\n",
    "test_datagen = ImageDataGenerator(rescale=1./255)"
   ]
  },
  {
   "cell_type": "code",
   "execution_count": null,
   "metadata": {
    "execution": {
     "iopub.execute_input": "2022-01-14T09:42:18.272894Z",
     "iopub.status.busy": "2022-01-14T09:42:18.27263Z",
     "iopub.status.idle": "2022-01-14T09:42:18.708865Z",
     "shell.execute_reply": "2022-01-14T09:42:18.708188Z",
     "shell.execute_reply.started": "2022-01-14T09:42:18.272859Z"
    }
   },
   "outputs": [],
   "source": [
    "train_generator = train_datagen.flow_from_directory(\n",
    "        train_dir,  \n",
    "        target_size=(150, 150), \n",
    "        batch_size=20,\n",
    "        class_mode='binary')\n",
    "\n",
    "validation_generator = test_datagen.flow_from_directory(\n",
    "        validation_dir,\n",
    "        target_size=(150, 150),\n",
    "        batch_size=20,\n",
    "        class_mode='binary')"
   ]
  },
  {
   "cell_type": "code",
   "execution_count": null,
   "metadata": {
    "execution": {
     "iopub.execute_input": "2022-01-14T09:42:18.71009Z",
     "iopub.status.busy": "2022-01-14T09:42:18.709844Z",
     "iopub.status.idle": "2022-01-14T09:46:33.766655Z",
     "shell.execute_reply": "2022-01-14T09:46:33.765848Z",
     "shell.execute_reply.started": "2022-01-14T09:42:18.710032Z"
    }
   },
   "outputs": [],
   "source": [
    "from tensorflow.keras import Model \n",
    "from tensorflow.keras.applications import DenseNet121   \n",
    "\n",
    "base_model = DenseNet121(input_shape = (150, 150, 3),  include_top = False, weights = 'imagenet') \n",
    "\n",
    "x=   tf.keras.layers.Flatten()(base_model.output)\n",
    "x=   tf.keras.layers.Dense(512, activation='relu')(x) \n",
    "x=   tf.keras.layers.Dense(1, activation='sigmoid')(x) \n",
    "\n",
    "model= Model( base_model.input, x)\n",
    "\n",
    "model.compile(loss='binary_crossentropy',\n",
    "              optimizer=RMSprop(lr=1e-4),\n",
    "              metrics=['Accuracy','Precision','Recall'])\n",
    "\n",
    "history = model.fit(\n",
    "      train_generator,\n",
    "      epochs=15,\n",
    "      validation_data=validation_generator,\n",
    "      verbose=2)"
   ]
  },
  {
   "cell_type": "code",
   "execution_count": null,
   "metadata": {
    "execution": {
     "iopub.execute_input": "2022-01-14T09:46:33.769799Z",
     "iopub.status.busy": "2022-01-14T09:46:33.768155Z",
     "iopub.status.idle": "2022-01-14T09:46:34.843417Z",
     "shell.execute_reply": "2022-01-14T09:46:34.842623Z",
     "shell.execute_reply.started": "2022-01-14T09:46:33.769738Z"
    }
   },
   "outputs": [],
   "source": [
    "model.save(\"classifier.h5\")"
   ]
  },
  {
   "cell_type": "code",
   "execution_count": null,
   "metadata": {
    "execution": {
     "iopub.execute_input": "2022-01-14T09:46:34.845243Z",
     "iopub.status.busy": "2022-01-14T09:46:34.84498Z",
     "iopub.status.idle": "2022-01-14T09:46:35.221612Z",
     "shell.execute_reply": "2022-01-14T09:46:35.220879Z",
     "shell.execute_reply.started": "2022-01-14T09:46:34.845207Z"
    }
   },
   "outputs": [],
   "source": [
    "import matplotlib.pyplot as plt\n",
    "acc = history.history['Accuracy']\n",
    "val_acc = history.history['val_Accuracy']\n",
    "loss = history.history['loss']\n",
    "val_loss = history.history['val_loss']\n",
    "\n",
    "epochs = range(len(acc))\n",
    "\n",
    "plt.plot(epochs, acc, 'bo', label='Training accuracy')\n",
    "plt.plot(epochs, val_acc, 'b', label='Validation accuracy')\n",
    "plt.title('Training and validation accuracy')\n",
    "\n",
    "plt.figure()\n",
    "\n",
    "plt.plot(epochs, loss, 'bo', label='Training Loss')\n",
    "plt.plot(epochs, val_loss, 'b', label='Validation Loss')\n",
    "plt.title('Training and validation loss')\n",
    "plt.legend()\n",
    "\n",
    "plt.show()"
   ]
  },
  {
   "cell_type": "code",
   "execution_count": null,
   "metadata": {
    "execution": {
     "iopub.execute_input": "2022-01-14T09:46:35.222974Z",
     "iopub.status.busy": "2022-01-14T09:46:35.222726Z",
     "iopub.status.idle": "2022-01-14T09:46:35.610638Z",
     "shell.execute_reply": "2022-01-14T09:46:35.609903Z",
     "shell.execute_reply.started": "2022-01-14T09:46:35.222939Z"
    }
   },
   "outputs": [],
   "source": [
    "import matplotlib.pyplot as plt\n",
    "acc = history.history['precision']\n",
    "val_acc = history.history['val_precision']\n",
    "loss = history.history['recall']\n",
    "val_loss = history.history['val_recall']\n",
    "\n",
    "epochs = range(len(acc))\n",
    "\n",
    "plt.plot(epochs, acc, 'bo', label='Training accuracy')\n",
    "plt.plot(epochs, val_acc, 'b', label='Validation accuracy')\n",
    "plt.title('Training and validation accuracy')\n",
    "\n",
    "plt.figure()\n",
    "\n",
    "plt.plot(epochs, loss, 'bo', label='Training Loss')\n",
    "plt.plot(epochs, val_loss, 'b', label='Validation Loss')\n",
    "plt.title('Training and validation loss')\n",
    "plt.legend()\n",
    "\n",
    "plt.show()"
   ]
  },
  {
   "cell_type": "markdown",
   "metadata": {},
   "source": [
    "Testing"
   ]
  },
  {
   "cell_type": "code",
   "execution_count": null,
   "metadata": {
    "execution": {
     "iopub.execute_input": "2022-01-14T09:46:35.612109Z",
     "iopub.status.busy": "2022-01-14T09:46:35.61186Z",
     "iopub.status.idle": "2022-01-14T09:46:37.984898Z",
     "shell.execute_reply": "2022-01-14T09:46:37.984186Z",
     "shell.execute_reply.started": "2022-01-14T09:46:35.612073Z"
    }
   },
   "outputs": [],
   "source": [
    "import cv2\n",
    "im = cv2.imread(\"../input/car-damage-detection/data1a/validation/00-damage/0001.JPEG\")\n",
    "im = cv2.cvtColor(im, cv2.COLOR_BGR2RGB)\n",
    "im = cv2.resize(im, (150, 150)) \n",
    "imS=im.reshape([1,150,150,3])\n",
    "pred=model.predict(np.array(imS))\n",
    "if pred[0][0]>0.5:\n",
    "    print(\"The car is damaged\")\n",
    "else:\n",
    "    print(\"The car is not damaged\")\n",
    "plt.axis(\"off\")\n",
    "plt.imshow(im)"
   ]
  },
  {
   "cell_type": "code",
   "execution_count": null,
   "metadata": {
    "execution": {
     "iopub.execute_input": "2022-01-14T09:46:37.986165Z",
     "iopub.status.busy": "2022-01-14T09:46:37.985935Z",
     "iopub.status.idle": "2022-01-14T09:46:38.190884Z",
     "shell.execute_reply": "2022-01-14T09:46:38.190259Z",
     "shell.execute_reply.started": "2022-01-14T09:46:37.986136Z"
    }
   },
   "outputs": [],
   "source": [
    "im = cv2.imread(\"../input/car-damage-detection/data1a/validation/01-whole/0006.jpg\")\n",
    "im = cv2.cvtColor(im, cv2.COLOR_BGR2RGB)\n",
    "im = cv2.resize(im, (150, 150)) \n",
    "imS=im.reshape([1,150,150,3])\n",
    "pred=model.predict(np.array(imS))\n",
    "print(pred)\n",
    "if pred[0][0]>0.5:\n",
    "    print(\"The car is damaged\")\n",
    "else:\n",
    "    print(\"The car is not damaged\")\n",
    "plt.axis(\"off\")\n",
    "plt.imshow(im)\n"
   ]
  },
  {
   "cell_type": "markdown",
   "metadata": {},
   "source": [
    "Conclusion: Successfully build a classifier to classify the images containing into damage and undamage cars. "
   ]
  }
 ],
 "metadata": {
  "kernelspec": {
   "display_name": "Python 3 (ipykernel)",
   "language": "python",
   "name": "python3"
  },
  "language_info": {
   "codemirror_mode": {
    "name": "ipython",
    "version": 3
   },
   "file_extension": ".py",
   "mimetype": "text/x-python",
   "name": "python",
   "nbconvert_exporter": "python",
   "pygments_lexer": "ipython3",
   "version": "3.9.7"
  }
 },
 "nbformat": 4,
 "nbformat_minor": 4
}
